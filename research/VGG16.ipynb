{
 "cells": [
  {
   "cell_type": "markdown",
   "metadata": {},
   "source": [
    "**VGG-16 Architecture**\n",
    "\n",
    "VGG-16 is a deep convolution neural network architecture that was developed by the Visual Geometry Group. It is used for image classification, featur extraction and transfer learning in various computer vision task. It was trained on the imageNet dataset.\n",
    "$$\\sum_{i=1}^{n} i$$\n",
    "\n"
   ]
  },
  {
   "cell_type": "markdown",
   "metadata": {},
   "source": []
  }
 ],
 "metadata": {
  "language_info": {
   "name": "python"
  }
 },
 "nbformat": 4,
 "nbformat_minor": 2
}
